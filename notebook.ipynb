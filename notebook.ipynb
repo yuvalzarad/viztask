{
 "cells": [
  {
   "cell_type": "code",
   "execution_count": 1,
   "metadata": {},
   "outputs": [],
   "source": [
    "import json\n",
    "import urllib\n",
    "import requests\n",
    "\n",
    "from pprint import pprint\n",
    "from os.path import expanduser\n",
    "import PIL.Image as image"
   ]
  },
  {
   "cell_type": "code",
   "execution_count": 80,
   "metadata": {},
   "outputs": [],
   "source": [
    "class Image(object):\n",
    "    def __init__(self, path):\n",
    "        self.path = path\n",
    "        with image.open(path) as pil_image:\n",
    "            self.size = pil_image.size[0] * pil_image.size[1] \n",
    "        \n",
    "    def detect_faces(self):\n",
    "        headers = {\n",
    "            'Content-Type': 'application/octet-stream',\n",
    "            'Ocp-Apim-Subscription-Key': '4b768946680148ff9935e53f375f36ce',\n",
    "        }\n",
    "\n",
    "        params = urllib.urlencode({\n",
    "            'returnFaceId': 'true',\n",
    "            'returnFaceLandmarks': 'false',\n",
    "            'returnFaceAttributes': 'age,gender,headPose,smile,facialHair,glasses',\n",
    "        })\n",
    "\n",
    "        url = 'https://westcentralus.api.cognitive.microsoft.com/face/v1.0/detect?%s' % params\n",
    "\n",
    "        image = open(self.path, 'rb')\n",
    "        response = requests.post(url, data=image, headers=headers)\n",
    "        \n",
    "        matches = []\n",
    "        for match in response.json():\n",
    "            matches.append(Match(match['faceId'], match['faceRectangle'], self))\n",
    "            \n",
    "        return matches\n",
    "\n",
    "        \n",
    "class Match(object):\n",
    "    def __init__(self, face_id, rectangle, image):\n",
    "        self.face_id = str(face_id)\n",
    "        self.rectangle = rectangle\n",
    "        self.image = image\n",
    "        \n",
    "    def _match_size(self):\n",
    "        return self.rectangle['width'] * self.rectangle['height']\n",
    "        \n",
    "    def __lt__(self, other):\n",
    "        return (self._match_size() / self.image.size) < (other._match_size() / self.image.size)\n",
    "    \n",
    "def group_matches(matches):\n",
    "    headers = {\n",
    "        'Content-Type': 'application/json',\n",
    "        'Ocp-Apim-Subscription-Key': '4b768946680148ff9935e53f375f36ce',\n",
    "    }\n",
    "\n",
    "    ids = [match.face_id for match in matches]\n",
    "    data = {\"faceIds\" : ids}\n",
    "\n",
    "    url = 'https://westcentralus.api.cognitive.microsoft.com/face/v1.0/group' \n",
    "    response = requests.post(url, data=str(data), headers=headers)\n",
    "    \n",
    "    most_common_face = filter(lambda match : match.face_id in response.json()['groups'][0], matches)\n",
    "    best_face = sorted(most_common_face)[0]\n",
    "    \n",
    "    return {'rectangle': best_face.rectangle, 'path': best_face.image.path}\n",
    "\n",
    "def parse_images(images_paths):\n",
    "    detected_faces = []\n",
    "    for image_path in images_paths:\n",
    "        detected_faces += Image(image_path).detect_faces()\n",
    "        \n",
    "    return group_matches(detected_faces)"
   ]
  },
  {
   "cell_type": "code",
   "execution_count": 81,
   "metadata": {},
   "outputs": [],
   "source": [
    "res = parse_images([r'C:/temp/images/family.jpg', 'C:/temp/images/family_girls.jpg'])"
   ]
  },
  {
   "cell_type": "code",
   "execution_count": 82,
   "metadata": {},
   "outputs": [
    {
     "data": {
      "text/plain": [
       "{'path': 'C:/temp/images/family.jpg',\n",
       " 'rectangle': {u'height': 177, u'left': 999, u'top': 298, u'width': 177}}"
      ]
     },
     "execution_count": 82,
     "metadata": {},
     "output_type": "execute_result"
    }
   ],
   "source": [
    "res"
   ]
  },
  {
   "cell_type": "code",
   "execution_count": null,
   "metadata": {},
   "outputs": [],
   "source": []
  }
 ],
 "metadata": {
  "kernelspec": {
   "display_name": "Python 2",
   "language": "python",
   "name": "python2"
  },
  "language_info": {
   "codemirror_mode": {
    "name": "ipython",
    "version": 2
   },
   "file_extension": ".py",
   "mimetype": "text/x-python",
   "name": "python",
   "nbconvert_exporter": "python",
   "pygments_lexer": "ipython2",
   "version": "2.7.16"
  }
 },
 "nbformat": 4,
 "nbformat_minor": 2
}
