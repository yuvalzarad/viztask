{
 "cells": [
  {
   "cell_type": "code",
   "execution_count": 1,
   "metadata": {},
   "outputs": [],
   "source": [
    "import json\n",
    "import urllib\n",
    "import requests\n",
    "\n",
    "from pprint import pprint\n",
    "from os.path import expanduser\n",
    "import PIL.Image as image"
   ]
  },
  {
   "cell_type": "code",
   "execution_count": 17,
   "metadata": {},
   "outputs": [],
   "source": [
    "class Image(object):\n",
    "    def __init__(self, path):\n",
    "        self.path = path\n",
    "        with image.open(path) as pil_image:\n",
    "            self.size = pil_image.size[0] * pil_image.size[1] \n",
    "        \n",
    "    def detect_faces(self):\n",
    "        headers = {\n",
    "            'Content-Type': 'application/octet-stream',\n",
    "            'Ocp-Apim-Subscription-Key': '4b768946680148ff9935e53f375f36ce',\n",
    "        }\n",
    "\n",
    "        params = urllib.urlencode({\n",
    "            'returnFaceId': 'true',\n",
    "            'returnFaceLandmarks': 'false',\n",
    "            'returnFaceAttributes': 'age,gender,headPose,smile,facialHair,glasses',\n",
    "        })\n",
    "\n",
    "        url = 'https://westcentralus.api.cognitive.microsoft.com/face/v1.0/detect?%s' % params\n",
    "\n",
    "        image = open(self.path, 'rb')\n",
    "        response = requests.post(url, data=image, headers=headers)\n",
    "        \n",
    "        matches = []\n",
    "        for match in response.json():\n",
    "            matches.append(Match(match['faceId'], match['faceRectangle'], self))\n",
    "            \n",
    "        return matches\n",
    "\n",
    "        \n",
    "class Match(object):\n",
    "    def __init__(self, face_id, rectangle, image):\n",
    "        self.face_id = face_id\n",
    "        self.rectangle = rectangle\n",
    "        self.image = image\n",
    "        \n",
    "    def _match_size(self):\n",
    "        return self.rectangle['width'] * self.rectangle['height']\n",
    "        \n",
    "    def __lt__(self, other):\n",
    "        return (self._match_size() / self.image.size) < (other._match_size() / self.image.size)\n",
    "    \n",
    "class Face(object):\n",
    "    def __init__(self, face_id, rectangle, image_path):\n",
    "        self.matches = [Match(face_id, rectangle, image_path)]\n",
    "        \n",
    "    def __eq__(self, other):\n",
    "        if not isinstance(other, Face):\n",
    "            return False\n",
    "        # Verify for all the matches\n",
    "        \n",
    "    def __iadd__(self, other):\n",
    "        self.matches += other.matches\n",
    "        \n"
   ]
  },
  {
   "cell_type": "code",
   "execution_count": 18,
   "metadata": {},
   "outputs": [
    {
     "data": {
      "text/plain": [
       "[<__main__.Match at 0x454ccc0>,\n",
       " <__main__.Match at 0x706ed30>,\n",
       " <__main__.Match at 0x706e518>,\n",
       " <__main__.Match at 0x706ef28>]"
      ]
     },
     "execution_count": 18,
     "metadata": {},
     "output_type": "execute_result"
    }
   ],
   "source": [
    "img = Image(r'C:/temp/images/family.jpg')\n",
    "img.detect_faces()"
   ]
  },
  {
   "cell_type": "code",
   "execution_count": 19,
   "metadata": {},
   "outputs": [],
   "source": [
    "matches = _"
   ]
  },
  {
   "cell_type": "code",
   "execution_count": 21,
   "metadata": {},
   "outputs": [
    {
     "data": {
      "text/plain": [
       "[{'face_id': u'd68e5310-6384-47fc-a135-90e2566fbdd5',\n",
       "  'image': <__main__.Image at 0x706e898>,\n",
       "  'rectangle': {u'height': 299, u'left': 3, u'top': 285, u'width': 299}},\n",
       " {'face_id': u'd20c9c74-7565-443f-9c77-ca996805c80b',\n",
       "  'image': <__main__.Image at 0x706e898>,\n",
       "  'rectangle': {u'height': 190, u'left': 908, u'top': 36, u'width': 190}},\n",
       " {'face_id': u'f2610e04-ac32-46ec-96b5-69f6ad5dab0e',\n",
       "  'image': <__main__.Image at 0x706e898>,\n",
       "  'rectangle': {u'height': 184, u'left': 581, u'top': 202, u'width': 184}},\n",
       " {'face_id': u'471a26a3-2f96-4022-93b9-e5297f17241f',\n",
       "  'image': <__main__.Image at 0x706e898>,\n",
       "  'rectangle': {u'height': 177, u'left': 999, u'top': 298, u'width': 177}}]"
      ]
     },
     "execution_count": 21,
     "metadata": {},
     "output_type": "execute_result"
    }
   ],
   "source": [
    "[m.__dict__ for m in matches]"
   ]
  },
  {
   "cell_type": "code",
   "execution_count": null,
   "metadata": {},
   "outputs": [],
   "source": []
  }
 ],
 "metadata": {
  "kernelspec": {
   "display_name": "Python 2",
   "language": "python",
   "name": "python2"
  },
  "language_info": {
   "codemirror_mode": {
    "name": "ipython",
    "version": 2
   },
   "file_extension": ".py",
   "mimetype": "text/x-python",
   "name": "python",
   "nbconvert_exporter": "python",
   "pygments_lexer": "ipython2",
   "version": "2.7.16"
  }
 },
 "nbformat": 4,
 "nbformat_minor": 2
}
