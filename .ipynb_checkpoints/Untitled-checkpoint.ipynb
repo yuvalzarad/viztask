{
 "cells": [
  {
   "cell_type": "code",
   "execution_count": 21,
   "metadata": {},
   "outputs": [],
   "source": [
    "import json\n",
    "import urllib\n",
    "import requests\n",
    "\n",
    "from pprint import pprint\n",
    "from os.path import expanduser\n",
    "import PIL.Image as image"
   ]
  },
  {
   "cell_type": "code",
   "execution_count": 25,
   "metadata": {},
   "outputs": [
    {
     "data": {
      "text/plain": [
       "(1440, 1080)"
      ]
     },
     "execution_count": 25,
     "metadata": {},
     "output_type": "execute_result"
    }
   ],
   "source": [
    "image.open(r'C:\\temp\\images\\mom.jpg').size"
   ]
  },
  {
   "cell_type": "code",
   "execution_count": null,
   "metadata": {},
   "outputs": [],
   "source": []
  },
  {
   "cell_type": "code",
   "execution_count": 28,
   "metadata": {},
   "outputs": [],
   "source": [
    "class Image(object):\n",
    "    def __init__(self, path):\n",
    "        self.path = path\n",
    "        with Image.open(path) as image:\n",
    "            self.size = image.size[0] * image.size[1] \n",
    "        \n",
    "    def detect_faces(self):\n",
    "        headers = {\n",
    "            'Content-Type': 'application/octet-stream',\n",
    "            'Ocp-Apim-Subscription-Key': '4b768946680148ff9935e53f375f36ce',\n",
    "        }\n",
    "\n",
    "        params = urllib.urlencode({\n",
    "            'returnFaceId': 'true',\n",
    "            'returnFaceLandmarks': 'false',\n",
    "            'returnFaceAttributes': 'age,gender,headPose,smile,facialHair,glasses',\n",
    "        })\n",
    "\n",
    "        url = 'https://westcentralus.api.cognitive.microsoft.com/face/v1.0/detect?%s' % params\n",
    "\n",
    "        image = open(self.path, 'rb')\n",
    "        response = requests.post(url, data=image, headers=headers)\n",
    "        \n",
    "        matches = []\n",
    "        for match in response.json():\n",
    "            matches.append(Match(match['faceId'], match['faceRectangle'], 1))\n",
    "            \n",
    "        return matches\n",
    "\n",
    "        \n",
    "class Match(object):\n",
    "    def __init__(self, face_id, rectangle, image):\n",
    "        self.face_id = face_id\n",
    "        self.rectangle = rectangle\n",
    "        self.image = image\n",
    "        \n",
    "    def _match_size(self):\n",
    "        return self.rectangle['width'] * self.rectangle['height']\n",
    "        \n",
    "    def __lt__(self, other):\n",
    "        return (self._match_size() / self.image.size) < (other._match_size() / self.image.size)\n",
    "    \n",
    "class Face(object):\n",
    "    def __init__(self, face_id, rectangle, image_path):\n",
    "        self.matches = [Match(face_id, rectangle, image_path)]\n",
    "        \n",
    "    def __eq__(self, other):\n",
    "        if not isinstance(other, Face):\n",
    "            return False\n",
    "        # Verify for all the matches\n",
    "        \n",
    "    def __iadd__(self, other):\n",
    "        self.matches += other.matches\n",
    "        \n"
   ]
  },
  {
   "cell_type": "code",
   "execution_count": 3,
   "metadata": {},
   "outputs": [
    {
     "name": "stdout",
     "output_type": "stream",
     "text": [
      "[{u'faceAttributes': {u'age': 45.0,\n",
      "                      u'facialHair': {u'beard': 0.0,\n",
      "                                      u'moustache': 0.0,\n",
      "                                      u'sideburns': 0.0},\n",
      "                      u'gender': u'female',\n",
      "                      u'glasses': u'NoGlasses',\n",
      "                      u'headPose': {u'pitch': -1.6,\n",
      "                                    u'roll': -20.4,\n",
      "                                    u'yaw': -11.8},\n",
      "                      u'smile': 0.999},\n",
      "  u'faceId': u'd3cc6a6e-82d5-4f0b-91fd-cf9d4b610a8c',\n",
      "  u'faceRectangle': {u'height': 216,\n",
      "                     u'left': 620,\n",
      "                     u'top': 159,\n",
      "                     u'width': 216}}]\n"
     ]
    }
   ],
   "source": [
    "headers = {\n",
    "    'Content-Type': 'application/octet-stream',\n",
    "    'Ocp-Apim-Subscription-Key': '4b768946680148ff9935e53f375f36ce',\n",
    "}\n",
    "\n",
    "params = urllib.urlencode({\n",
    "    'returnFaceId': 'true',\n",
    "    'returnFaceLandmarks': 'false',\n",
    "    'returnFaceAttributes': 'age,gender,headPose,smile,facialHair,glasses',\n",
    "})\n",
    "\n",
    "url = 'https://westcentralus.api.cognitive.microsoft.com/face/v1.0/detect?%s' % params\n",
    "\n",
    "img = open(r'C:\\temp\\images\\mom.jpg', 'rb')\n",
    "response = requests.post(url, data=img, headers=headers)\n",
    "pprint(response.json())   "
   ]
  },
  {
   "cell_type": "code",
   "execution_count": 30,
   "metadata": {},
   "outputs": [
    {
     "name": "stdout",
     "output_type": "stream",
     "text": [
      "[<__main__.Match object at 0x0000000008C0E080>]\n"
     ]
    }
   ],
   "source": [
    "matches = []\n",
    "for match in response.json():\n",
    "    matches.append(Match(match['faceId'], match['faceRectangle'], 1))\n",
    "    \n",
    "print matches"
   ]
  },
  {
   "cell_type": "code",
   "execution_count": null,
   "metadata": {},
   "outputs": [],
   "source": []
  }
 ],
 "metadata": {
  "kernelspec": {
   "display_name": "Python 2",
   "language": "python",
   "name": "python2"
  },
  "language_info": {
   "codemirror_mode": {
    "name": "ipython",
    "version": 2
   },
   "file_extension": ".py",
   "mimetype": "text/x-python",
   "name": "python",
   "nbconvert_exporter": "python",
   "pygments_lexer": "ipython2",
   "version": "2.7.16"
  }
 },
 "nbformat": 4,
 "nbformat_minor": 2
}
