{
 "cells": [
  {
   "cell_type": "code",
   "execution_count": 1,
   "metadata": {},
   "outputs": [],
   "source": [
    "import json\n",
    "import urllib\n",
    "import requests\n",
    "\n",
    "from pprint import pprint\n",
    "from os.path import expanduser\n",
    "import PIL.Image as image"
   ]
  },
  {
   "cell_type": "code",
   "execution_count": 17,
   "metadata": {},
   "outputs": [],
   "source": [
    "class Image(object):\n",
    "    def __init__(self, path):\n",
    "        self.path = path\n",
    "        with image.open(path) as pil_image:\n",
    "            self.size = pil_image.size[0] * pil_image.size[1] \n",
    "        \n",
    "    def detect_faces(self):\n",
    "        headers = {\n",
    "            'Content-Type': 'application/octet-stream',\n",
    "            'Ocp-Apim-Subscription-Key': '4b768946680148ff9935e53f375f36ce',\n",
    "        }\n",
    "\n",
    "        params = urllib.urlencode({\n",
    "            'returnFaceId': 'true',\n",
    "            'returnFaceLandmarks': 'false',\n",
    "            'returnFaceAttributes': 'age,gender,headPose,smile,facialHair,glasses',\n",
    "        })\n",
    "\n",
    "        url = 'https://westcentralus.api.cognitive.microsoft.com/face/v1.0/detect?%s' % params\n",
    "\n",
    "        image = open(self.path, 'rb')\n",
    "        response = requests.post(url, data=image, headers=headers)\n",
    "        \n",
    "        matches = []\n",
    "        for match in response.json():\n",
    "            matches.append(Match(match['faceId'], match['faceRectangle'], self))\n",
    "            \n",
    "        return matches\n",
    "\n",
    "        \n",
    "class Match(object):\n",
    "    def __init__(self, face_id, rectangle, image):\n",
    "        self.face_id = str(face_id)\n",
    "        self.rectangle = rectangle\n",
    "        self.image = image\n",
    "        \n",
    "    def _match_size(self):\n",
    "        return self.rectangle['width'] * self.rectangle['height']\n",
    "        \n",
    "    def __lt__(self, other):\n",
    "        return (self._match_size() / self.image.size) < (other._match_size() / self.image.size)\n",
    "    \n",
    "def group_matches(matches):\n",
    "    headers = {\n",
    "        'Content-Type': 'application/json',\n",
    "        'Ocp-Apim-Subscription-Key': '4b768946680148ff9935e53f375f36ce',\n",
    "    }\n",
    "\n",
    "    ids = [match.face_id for match in matches]\n",
    "    data = {\"faceIds\" : ids}\n",
    "\n",
    "    url = 'https://westcentralus.api.cognitive.microsoft.com/face/v1.0/group' \n",
    "    response = requests.post(url, data=str(data), headers=headers)\n",
    "    \n",
    "    most_common_face = filter(lambda match : match.face_id in response.json()['groups'][0], matches)\n",
    "    best_face = sorted(most_common_face)[0]\n",
    "    \n",
    "    return {'rectangle': best_face.rectangle, 'path': best_face.path}"
   ]
  },
  {
   "cell_type": "code",
   "execution_count": 27,
   "metadata": {},
   "outputs": [],
   "source": [
    "img1 = Image(r'C:/temp/images/family.jpg')\n",
    "matches1 = img1.detect_faces()"
   ]
  },
  {
   "cell_type": "code",
   "execution_count": 28,
   "metadata": {},
   "outputs": [],
   "source": [
    "img2 = Image(r'C:/temp/images/family_girls.jpg')\n",
    "matches2 = img2.detect_faces()\n"
   ]
  },
  {
   "cell_type": "code",
   "execution_count": 62,
   "metadata": {},
   "outputs": [
    {
     "data": {
      "text/plain": [
       "<Response [200]>"
      ]
     },
     "execution_count": 62,
     "metadata": {},
     "output_type": "execute_result"
    }
   ],
   "source": [
    "headers = {\n",
    "    'Content-Type': 'application/json',\n",
    "    'Ocp-Apim-Subscription-Key': '4b768946680148ff9935e53f375f36ce',\n",
    "}\n",
    "\n",
    "ids = [m.face_id for m in matches1] + [m.face_id for m in matches2]\n",
    "params = urllib.urlencode({\n",
    "    #faceIds': ids\n",
    "})\n",
    "data = {\"faceIds\" : map(str, ids)}\n",
    "\n",
    "\n",
    "url = 'https://westcentralus.api.cognitive.microsoft.com/face/v1.0/group' #?%s' % params\n",
    "response = requests.post(url, data=str(data), headers=headers)"
   ]
  },
  {
   "cell_type": "code",
   "execution_count": 74,
   "metadata": {},
   "outputs": [
    {
     "data": {
      "text/plain": [
       "'C:/temp/images/family.jpg'"
      ]
     },
     "execution_count": 74,
     "metadata": {},
     "output_type": "execute_result"
    }
   ],
   "source": [
    "sorted(filter(lambda match : match.face_id in response.json()['groups'][0], matches1+matches2))[0].image.path"
   ]
  },
  {
   "cell_type": "code",
   "execution_count": 66,
   "metadata": {},
   "outputs": [
    {
     "name": "stdout",
     "output_type": "stream",
     "text": [
      "[u'15a08775-7d29-4855-ae21-d9e0cdf94d3b',\n",
      " u'7d87f2d4-04a7-41c1-952f-9292a260f98a',\n",
      " u'e719e3a3-70e7-45ea-8010-e787efecf1a9',\n",
      " u'7ac71947-ea86-4f00-8c51-ae237fa3006a',\n",
      " u'c3374d01-6aea-4af9-b3bf-c95f90538d5f',\n",
      " u'db6d6492-11bb-4a71-95b6-12fd52f0795d',\n",
      " u'efe3895b-a990-4151-b10a-f3f16585b1d1',\n",
      " u'cd32042a-23d2-48a3-925c-7c1f5ac27eb5',\n",
      " u'97fb550d-e280-4f1b-bc0c-b28e12110f94',\n",
      " u'0737156c-1cad-456a-a156-da3b02524474']\n"
     ]
    }
   ],
   "source": [
    "pprint(ids)"
   ]
  },
  {
   "cell_type": "code",
   "execution_count": 60,
   "metadata": {},
   "outputs": [
    {
     "data": {
      "text/plain": [
       "'{\"isIdentical\":false,\"confidence\":0.12641}'"
      ]
     },
     "execution_count": 60,
     "metadata": {},
     "output_type": "execute_result"
    }
   ],
   "source": [
    "headers = {\n",
    "    'Content-Type': 'application/json',\n",
    "    'Ocp-Apim-Subscription-Key': '4b768946680148ff9935e53f375f36ce',\n",
    "}\n",
    "\n",
    "data = {\"faceId1\" : str(matches1[0].face_id), \"faceId2\" : str(matches2[0].face_id)}\n",
    "\n",
    "url = 'https://westcentralus.api.cognitive.microsoft.com/face/v1.0/verify' #?%s' % params\n",
    "response = requests.post(url, data=str(data), headers=headers)\n",
    "response"
   ]
  }
 ],
 "metadata": {
  "kernelspec": {
   "display_name": "Python 2",
   "language": "python",
   "name": "python2"
  },
  "language_info": {
   "codemirror_mode": {
    "name": "ipython",
    "version": 2
   },
   "file_extension": ".py",
   "mimetype": "text/x-python",
   "name": "python",
   "nbconvert_exporter": "python",
   "pygments_lexer": "ipython2",
   "version": "2.7.16"
  }
 },
 "nbformat": 4,
 "nbformat_minor": 2
}
